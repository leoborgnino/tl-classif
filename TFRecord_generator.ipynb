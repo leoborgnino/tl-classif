{
 "cells": [
  {
   "cell_type": "markdown",
   "metadata": {},
   "source": [
    "# TF Record file generator"
   ]
  },
  {
   "cell_type": "markdown",
   "metadata": {},
   "source": [
    "In this notebook we generate the .record file, that contains the dataset for traffic light classification training. We do this generation in order to use the output file with TF object detection API."
   ]
  },
  {
   "cell_type": "markdown",
   "metadata": {},
   "source": [
    "### Import Libraries"
   ]
  },
  {
   "cell_type": "code",
   "execution_count": 1,
   "metadata": {},
   "outputs": [],
   "source": [
    "import tensorflow as tf\n",
    "import yaml\n",
    "import os\n",
    "from object_detection.utils import dataset_util"
   ]
  },
  {
   "cell_type": "code",
   "execution_count": 2,
   "metadata": {},
   "outputs": [],
   "source": [
    "output_path_train = './data/dataset_training.record'\n",
    "output_path_eval = './data/dataset_eval.record'\n",
    "\n",
    "LABEL_DICT =  {\n",
    "    \"Green\" : 1,\n",
    "    \"Red\" : 2,\n",
    "    \"Yellow\" : 3,\n",
    "    \"off\" : 4,\n",
    "    }"
   ]
  },
  {
   "cell_type": "code",
   "execution_count": 3,
   "metadata": {},
   "outputs": [],
   "source": [
    "def create_tf_example(example):\n",
    "    \n",
    "    # Udacity real data set\n",
    "    height = 1096 # Image height\n",
    "    width = 1368 # Image width\n",
    "\n",
    "    filename = example['filename'] # Filename of the image. Empty if image is not from file\n",
    "    filename = filename.encode()\n",
    "\n",
    "    with tf.io.gfile.GFile(example['filename'], 'rb') as fid:\n",
    "        encoded_image = fid.read()\n",
    "\n",
    "    image_format = 'jpg'.encode() \n",
    "\n",
    "    xmins = [] # List of normalized left x coordinates in bounding box (1 per box)\n",
    "    xmaxs = [] # List of normalized right x coordinates in bounding box\n",
    "                # (1 per box)\n",
    "    ymins = [] # List of normalized top y coordinates in bounding box (1 per box)\n",
    "    ymaxs = [] # List of normalized bottom y coordinates in bounding box\n",
    "                # (1 per box)\n",
    "    classes_text = [] # List of string class name of bounding box (1 per box)\n",
    "    classes = [] # List of integer class id of bounding box (1 per box)\n",
    "\n",
    "    for box in example['annotations']:\n",
    "        #print(\"adding box\")\n",
    "        xmins.append(float(box['xmin'] / width))\n",
    "        xmaxs.append(float((box['xmin'] + box['x_width']) / width))\n",
    "        ymins.append(float(box['ymin'] / height))\n",
    "        ymaxs.append(float((box['ymin']+ box['y_height']) / height))\n",
    "        classes_text.append(box['class'].encode())\n",
    "        classes.append(int(LABEL_DICT[box['class']]))\n",
    "\n",
    "\n",
    "    tf_example = tf.train.Example(features=tf.train.Features(feature={\n",
    "        'image/height': dataset_util.int64_feature(height),\n",
    "        'image/width': dataset_util.int64_feature(width),\n",
    "        'image/filename': dataset_util.bytes_feature(filename),\n",
    "        'image/source_id': dataset_util.bytes_feature(filename),\n",
    "        'image/encoded': dataset_util.bytes_feature(encoded_image),\n",
    "        'image/format': dataset_util.bytes_feature(image_format),\n",
    "        'image/object/bbox/xmin': dataset_util.float_list_feature(xmins),\n",
    "        'image/object/bbox/xmax': dataset_util.float_list_feature(xmaxs),\n",
    "        'image/object/bbox/ymin': dataset_util.float_list_feature(ymins),\n",
    "        'image/object/bbox/ymax': dataset_util.float_list_feature(ymaxs),\n",
    "        'image/object/class/text': dataset_util.bytes_list_feature(classes_text),\n",
    "        'image/object/class/label': dataset_util.int64_list_feature(classes),\n",
    "    }))\n",
    "\n",
    "    return tf_example\n"
   ]
  },
  {
   "cell_type": "code",
   "execution_count": 4,
   "metadata": {},
   "outputs": [],
   "source": [
    "import random\n",
    "\n",
    "def main(_):\n",
    "    VALIDATION = 0.1\n",
    "    \n",
    "    INPUT_YAML = \"data/dataset_orig/real_data_annotations.yaml\"\n",
    "    examples = yaml.load(open(INPUT_YAML, 'rb').read())\n",
    "\n",
    "    #examples = examples[:10]  # for testing\n",
    "    len_examples = len(examples)\n",
    "    print(\"Loaded \", len(examples), \"examples\")\n",
    "\n",
    "    for i in range(len(examples)):\n",
    "        examples[i]['filename'] = os.path.abspath(os.path.join(os.path.dirname(INPUT_YAML), examples[i]['filename']))\n",
    "        \n",
    "    random.shuffle(examples)\n",
    "\n",
    "    print(int(VALIDATION*len(examples)))\n",
    "    writer = tf.io.TFRecordWriter(output_path_train)\n",
    "    counter = 0\n",
    "    for example in examples[:-int(VALIDATION*len(examples))]:\n",
    "        tf_example = create_tf_example(example)\n",
    "        writer.write(tf_example.SerializeToString())\n",
    "\n",
    "        if counter % 10 == 0:\n",
    "            print(\"Percent done\", (counter/len_examples)*100)\n",
    "        counter += 1\n",
    "\n",
    "    print(\"Total counter images training: %d \"%counter)\n",
    "    \n",
    "    writer = tf.io.TFRecordWriter(output_path_eval)\n",
    "    counter = 0\n",
    "    for example in examples[-int(VALIDATION*len(examples))::]:\n",
    "        tf_example = create_tf_example(example)\n",
    "        writer.write(tf_example.SerializeToString())\n",
    "\n",
    "        if counter % 10 == 0:\n",
    "            print(\"Percent done\", (counter/len_examples)*100)\n",
    "        counter += 1\n",
    "\n",
    "    print(\"Total counter images eval: %d \"%counter)\n",
    "    writer.close()"
   ]
  },
  {
   "cell_type": "code",
   "execution_count": 5,
   "metadata": {},
   "outputs": [
    {
     "name": "stderr",
     "output_type": "stream",
     "text": [
      "/home/lborgnino/miniconda3/envs/carnd-advdl-odlab/lib/python3.7/site-packages/ipykernel_launcher.py:7: YAMLLoadWarning: calling yaml.load() without Loader=... is deprecated, as the default Loader is unsafe. Please read https://msg.pyyaml.org/load for full details.\n",
      "  import sys\n"
     ]
    },
    {
     "name": "stdout",
     "output_type": "stream",
     "text": [
      "Loaded  159 examples\n",
      "15\n",
      "Percent done 0.0\n",
      "Percent done 6.289308176100629\n",
      "Percent done 12.578616352201259\n",
      "Percent done 18.867924528301888\n",
      "Percent done 25.157232704402517\n",
      "Percent done 31.446540880503143\n",
      "Percent done 37.735849056603776\n",
      "Percent done 44.0251572327044\n",
      "Percent done 50.314465408805034\n",
      "Percent done 56.60377358490566\n",
      "Percent done 62.893081761006286\n",
      "Percent done 69.18238993710692\n",
      "Percent done 75.47169811320755\n",
      "Percent done 81.76100628930818\n",
      "Percent done 88.0503144654088\n",
      "Total counter images training: 144 \n",
      "Percent done 0.0\n",
      "Percent done 6.289308176100629\n",
      "Total counter images eval: 15 \n"
     ]
    },
    {
     "ename": "SystemExit",
     "evalue": "",
     "output_type": "error",
     "traceback": [
      "An exception has occurred, use %tb to see the full traceback.\n",
      "\u001b[0;31mSystemExit\u001b[0m\n"
     ]
    },
    {
     "name": "stderr",
     "output_type": "stream",
     "text": [
      "/home/lborgnino/miniconda3/envs/carnd-advdl-odlab/lib/python3.7/site-packages/IPython/core/interactiveshell.py:3351: UserWarning: To exit: use 'exit', 'quit', or Ctrl-D.\n",
      "  warn(\"To exit: use 'exit', 'quit', or Ctrl-D.\", stacklevel=1)\n"
     ]
    }
   ],
   "source": [
    "tf.compat.v1.app.run()"
   ]
  },
  {
   "cell_type": "code",
   "execution_count": null,
   "metadata": {},
   "outputs": [],
   "source": []
  }
 ],
 "metadata": {
  "kernelspec": {
   "display_name": "Python 3",
   "language": "python",
   "name": "python3"
  },
  "language_info": {
   "codemirror_mode": {
    "name": "ipython",
    "version": 3
   },
   "file_extension": ".py",
   "mimetype": "text/x-python",
   "name": "python",
   "nbconvert_exporter": "python",
   "pygments_lexer": "ipython3",
   "version": "3.7.6"
  }
 },
 "nbformat": 4,
 "nbformat_minor": 4
}
